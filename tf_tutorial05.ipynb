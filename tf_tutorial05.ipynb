{
  "nbformat": 4,
  "nbformat_minor": 0,
  "metadata": {
    "colab": {
      "name": "tf_tutorial05.ipynb",
      "provenance": []
    },
    "kernelspec": {
      "name": "python3",
      "display_name": "Python 3"
    }
  },
  "cells": [
    {
      "cell_type": "code",
      "metadata": {
        "id": "KIxfAjafo3u2",
        "outputId": "41a61353-04db-48d0-dc00-ca9e594ae369",
        "colab": {
          "base_uri": "https://localhost:8080/"
        }
      },
      "source": [
        "import tensorflow as tf\n",
        "from tensorflow import keras\n",
        "\n",
        "import numpy as np\n",
        "import pandas as pd\n",
        "import matplotlib.pyplot as plt\n",
        "\n",
        "print(tf.__version__)"
      ],
      "execution_count": null,
      "outputs": [
        {
          "output_type": "stream",
          "text": [
            "2.3.0\n"
          ],
          "name": "stdout"
        }
      ]
    },
    {
      "cell_type": "code",
      "metadata": {
        "id": "_iNm8bbbphiN"
      },
      "source": [
        "NUM_WORDS = 1000\n",
        "\n",
        "(train_data, train_labels), (test_data, test_labels) = keras.datasets.imdb.load_data(num_words=NUM_WORDS)\n",
        "\n",
        "def multi_hot_sequences(sequences, dimension):\n",
        "  results = np.zeros((len(sequences), dimension))\n",
        "  for i, word_indices in enumerate(sequences):\n",
        "    results[i, word_indices] = 1.0\n",
        "  return results\n",
        "\n",
        "train_data = multi_hot_sequences(train_data, dimension=NUM_WORDS)\n",
        "test_data = multi_hot_sequences(test_data, dimension=NUM_WORDS)"
      ],
      "execution_count": null,
      "outputs": []
    },
    {
      "cell_type": "code",
      "metadata": {
        "id": "2cbqP0iLsJj4",
        "outputId": "ae9297df-99ea-4eb0-9965-bbfbe66f6be3",
        "colab": {
          "base_uri": "https://localhost:8080/",
          "height": 282
        }
      },
      "source": [
        "plt.plot(train_data[0])"
      ],
      "execution_count": null,
      "outputs": [
        {
          "output_type": "execute_result",
          "data": {
            "text/plain": [
              "[<matplotlib.lines.Line2D at 0x7fe4f27796d8>]"
            ]
          },
          "metadata": {
            "tags": []
          },
          "execution_count": 8
        },
        {
          "output_type": "display_data",
          "data": {
            "image/png": "[encoded data removed]",
            "text/plain": [
              "<Figure size 432x288 with 1 Axes>"
            ]
          },
          "metadata": {
            "tags": [],
            "needs_background": "light"
          }
        }
      ]
    },
    {
      "cell_type": "code",
      "metadata": {
        "id": "7HaGiKglsZcP",
        "outputId": "1a11eae1-f625-4132-973a-1748bb3f51da",
        "colab": {
          "base_uri": "https://localhost:8080/"
        }
      },
      "source": [
        "train_data[0]"
      ],
      "execution_count": null,
      "outputs": [
        {
          "output_type": "execute_result",
          "data": {
            "text/plain": [
              "array([0., 1., 1., 0., 1., 1., 1., 1., 1., 1., 0., 0., 1., 1., 1., 1., 1.,\n",
              "       1., 1., 1., 0., 1., 1., 0., 0., 1., 1., 0., 1., 0., 1., 0., 1., 1.,\n",
              "       0., 1., 1., 0., 1., 1., 0., 0., 0., 1., 0., 0., 1., 0., 1., 0., 1.,\n",
              "       1., 1., 0., 0., 0., 1., 0., 0., 0., 0., 0., 1., 0., 0., 1., 1., 0.,\n",
              "       0., 0., 0., 1., 0., 0., 0., 0., 1., 1., 0., 0., 0., 0., 1., 0., 0.,\n",
              "       0., 0., 1., 1., 0., 0., 0., 1., 0., 0., 0., 0., 0., 1., 0., 1., 0.,\n",
              "       0., 1., 1., 0., 1., 1., 0., 0., 0., 0., 1., 1., 0., 0., 0., 1., 0.,\n",
              "       0., 0., 0., 0., 0., 1., 0., 0., 0., 0., 0., 1., 0., 0., 0., 1., 1.,\n",
              "       0., 0., 0., 0., 0., 1., 0., 0., 1., 0., 0., 1., 0., 0., 1., 0., 0.,\n",
              "       0., 0., 0., 0., 0., 0., 0., 0., 0., 0., 0., 0., 0., 0., 1., 0., 0.,\n",
              "       0., 0., 1., 1., 0., 0., 0., 0., 1., 0., 0., 0., 0., 0., 0., 0., 0.,\n",
              "       0., 0., 0., 0., 0., 1., 0., 1., 0., 0., 0., 0., 0., 0., 0., 0., 0.,\n",
              "       0., 0., 0., 0., 0., 0., 0., 0., 0., 0., 0., 1., 0., 0., 0., 0., 0.,\n",
              "       0., 0., 0., 1., 0., 1., 0., 0., 0., 0., 0., 0., 0., 0., 0., 0., 0.,\n",
              "       0., 0., 0., 0., 0., 0., 0., 0., 0., 0., 0., 0., 0., 0., 0., 0., 0.,\n",
              "       0., 1., 0., 0., 0., 0., 0., 0., 0., 0., 0., 0., 0., 0., 0., 0., 0.,\n",
              "       0., 0., 0., 0., 0., 0., 0., 0., 0., 0., 0., 1., 1., 0., 0., 0., 0.,\n",
              "       0., 0., 0., 0., 0., 0., 0., 0., 1., 0., 0., 0., 0., 0., 0., 0., 0.,\n",
              "       0., 0., 0., 0., 0., 0., 0., 0., 0., 0., 1., 1., 0., 0., 0., 0., 0.,\n",
              "       0., 0., 0., 0., 0., 0., 0., 0., 0., 0., 0., 0., 0., 1., 0., 0., 0.,\n",
              "       0., 0., 0., 0., 0., 0., 0., 0., 0., 0., 0., 0., 0., 0., 0., 0., 0.,\n",
              "       0., 0., 0., 0., 0., 0., 0., 0., 0., 0., 0., 0., 0., 0., 0., 0., 0.,\n",
              "       0., 0., 0., 0., 0., 0., 0., 1., 0., 0., 0., 1., 1., 0., 0., 0., 0.,\n",
              "       0., 0., 0., 0., 0., 0., 0., 0., 0., 1., 0., 0., 0., 0., 0., 0., 1.,\n",
              "       0., 0., 0., 0., 0., 0., 0., 0., 0., 0., 0., 0., 0., 0., 0., 0., 0.,\n",
              "       0., 0., 0., 0., 0., 0., 0., 0., 0., 0., 0., 0., 0., 0., 0., 0., 0.,\n",
              "       0., 0., 0., 0., 0., 1., 0., 0., 0., 0., 0., 0., 0., 0., 0., 0., 1.,\n",
              "       0., 0., 0., 0., 0., 0., 0., 0., 0., 0., 1., 0., 0., 0., 0., 0., 0.,\n",
              "       1., 0., 0., 0., 1., 0., 0., 0., 0., 0., 0., 0., 0., 0., 0., 0., 0.,\n",
              "       0., 0., 0., 0., 0., 0., 0., 0., 0., 0., 0., 0., 0., 0., 0., 0., 0.,\n",
              "       0., 0., 0., 0., 0., 1., 0., 0., 0., 0., 0., 0., 0., 0., 0., 0., 0.,\n",
              "       0., 0., 0., 1., 0., 0., 0., 0., 0., 0., 0., 0., 0., 0., 0., 0., 0.,\n",
              "       0., 0., 1., 0., 0., 0., 0., 0., 0., 0., 0., 0., 0., 0., 0., 0., 0.,\n",
              "       0., 0., 0., 0., 0., 0., 0., 0., 0., 0., 0., 0., 0., 0., 0., 0., 0.,\n",
              "       0., 0., 0., 0., 0., 0., 0., 0., 0., 0., 0., 0., 0., 0., 0., 0., 0.,\n",
              "       0., 0., 0., 0., 0., 0., 0., 0., 0., 0., 0., 0., 0., 0., 0., 0., 0.,\n",
              "       0., 0., 0., 0., 0., 0., 0., 1., 0., 0., 0., 0., 0., 0., 1., 0., 0.,\n",
              "       0., 0., 0., 0., 0., 0., 0., 0., 0., 0., 0., 0., 0., 0., 0., 0., 0.,\n",
              "       0., 0., 0., 0., 0., 0., 0., 0., 0., 0., 0., 0., 0., 0., 0., 0., 0.,\n",
              "       0., 0., 0., 0., 0., 0., 0., 1., 0., 0., 0., 0., 0., 0., 0., 0., 0.,\n",
              "       0., 0., 0., 0., 0., 0., 0., 0., 0., 0., 0., 0., 0., 0., 0., 0., 0.,\n",
              "       0., 0., 0., 0., 0., 0., 0., 0., 0., 0., 0., 0., 0., 0., 0., 0., 0.,\n",
              "       0., 0., 0., 0., 0., 0., 0., 0., 0., 1., 0., 0., 0., 0., 0., 0., 0.,\n",
              "       0., 0., 0., 0., 0., 0., 0., 0., 0., 0., 0., 0., 0., 0., 0., 0., 0.,\n",
              "       0., 0., 0., 0., 0., 0., 0., 0., 0., 0., 0., 0., 0., 0., 0., 0., 0.,\n",
              "       0., 0., 0., 0., 0., 0., 0., 0., 0., 0., 0., 0., 0., 0., 0., 0., 0.,\n",
              "       0., 0., 0., 0., 0., 0., 0., 0., 0., 0., 0., 0., 0., 0., 0., 0., 0.,\n",
              "       0., 0., 0., 0., 0., 0., 0., 0., 0., 0., 0., 0., 0., 0., 0., 0., 0.,\n",
              "       0., 0., 0., 0., 0., 0., 0., 0., 0., 0., 0., 0., 0., 0., 0., 0., 0.,\n",
              "       0., 0., 0., 0., 0., 1., 0., 0., 0., 0., 0., 0., 0., 0., 0., 0., 0.,\n",
              "       0., 0., 0., 0., 0., 0., 0., 0., 0., 0., 0., 0., 0., 0., 0., 0., 0.,\n",
              "       0., 0., 0., 0., 0., 0., 0., 0., 0., 0., 0., 0., 0., 0., 0., 0., 0.,\n",
              "       0., 0., 0., 0., 0., 0., 0., 0., 0., 0., 0., 0., 0., 0., 0., 0., 0.,\n",
              "       0., 0., 0., 0., 0., 0., 0., 0., 0., 0., 0., 0., 0., 0., 0., 0., 0.,\n",
              "       0., 0., 0., 0., 0., 0., 0., 0., 0., 0., 0., 0., 0., 0., 0., 0., 0.,\n",
              "       0., 0., 0., 0., 0., 0., 0., 0., 0., 0., 0., 0., 0., 0., 0., 0., 0.,\n",
              "       0., 0., 0., 0., 0., 0., 0., 0., 0., 0., 0., 0., 0., 0., 0., 0., 0.,\n",
              "       0., 0., 0., 0., 1., 0., 0., 0., 0., 0., 0., 0., 0., 0., 0., 0., 0.,\n",
              "       0., 0., 0., 0., 0., 0., 0., 0., 0., 0., 0., 0., 0., 0.])"
            ]
          },
          "metadata": {
            "tags": []
          },
          "execution_count": 9
        }
      ]
    },
    {
      "cell_type": "markdown",
      "metadata": {
        "id": "h-TMneKhsumi"
      },
      "source": [
        "#과대적합 예제\n",
        "과대적합을 막는 가장 간단한 방법 = 파라미터 수 감소\n",
        "\n",
        "파라미터 수가 많음 > 기존 데이터에는 완벽한 학습 > 신규 데이터에 대한 대응력 감소\n",
        "\n",
        "딥러닝에서 가장 중요한 것은 학습이 아니라 \"일반화\"\n",
        "\n",
        "마법같은 공식은 없기에 많이 시도해야 한다."
      ]
    },
    {
      "cell_type": "code",
      "metadata": {
        "id": "b5V370O7sjmx",
        "outputId": "92d85d74-7063-4eaa-f79e-6112413d0825",
        "colab": {
          "base_uri": "https://localhost:8080/"
        }
      },
      "source": [
        "baseline_model = keras.Sequential([\n",
        "    keras.layers.Dense(16, activation='relu', input_shape=(NUM_WORDS,)),\n",
        "    keras.layers.Dense(16, activation='relu'),\n",
        "    keras.layers.Dense(1, activation='sigmoid')\n",
        "])\n",
        "\n",
        "baseline_model.compile(\n",
        "    optimizer='adam',\n",
        "    loss='binary_crossentropy',\n",
        "    metrics=['accuracy', 'binary_crossentropy']\n",
        ")\n",
        "\n",
        "baseline_model.summary()"
      ],
      "execution_count": null,
      "outputs": [
        {
          "output_type": "stream",
          "text": [
            "Model: \"sequential\"\n",
            "_________________________________________________________________\n",
            "Layer (type)                 Output Shape              Param #   \n",
            "=================================================================\n",
            "dense (Dense)                (None, 16)                16016     \n",
            "_________________________________________________________________\n",
            "dense_1 (Dense)              (None, 16)                272       \n",
            "_________________________________________________________________\n",
            "dense_2 (Dense)              (None, 1)                 17        \n",
            "=================================================================\n",
            "Total params: 16,305\n",
            "Trainable params: 16,305\n",
            "Non-trainable params: 0\n",
            "_________________________________________________________________\n"
          ],
          "name": "stdout"
        }
      ]
    },
    {
      "cell_type": "code",
      "metadata": {
        "id": "A2DV-Q1buj2H",
        "outputId": "9aca0fb3-c4d4-4bfe-eac3-e2c27fbfcd48",
        "colab": {
          "base_uri": "https://localhost:8080/"
        }
      },
      "source": [
        "baseline_history = baseline_model.fit(\n",
        "    train_data,\n",
        "    train_labels,\n",
        "    epochs=20,\n",
        "    batch_size=512,\n",
        "    validation_data=(test_data, test_labels),\n",
        "    verbose=1\n",
        ")"
      ],
      "execution_count": null,
      "outputs": [
        {
          "output_type": "stream",
          "text": [
            "Epoch 1/20\n",
            "49/49 [==============================] - 0s 10ms/step - loss: 0.6048 - accuracy: 0.6804 - binary_crossentropy: 0.6048 - val_loss: 0.4635 - val_accuracy: 0.8124 - val_binary_crossentropy: 0.4635\n",
            "Epoch 2/20\n",
            "49/49 [==============================] - 0s 5ms/step - loss: 0.3826 - accuracy: 0.8409 - binary_crossentropy: 0.3826 - val_loss: 0.3453 - val_accuracy: 0.8545 - val_binary_crossentropy: 0.3453\n",
            "Epoch 3/20\n",
            "49/49 [==============================] - 0s 5ms/step - loss: 0.3257 - accuracy: 0.8627 - binary_crossentropy: 0.3257 - val_loss: 0.3304 - val_accuracy: 0.8595 - val_binary_crossentropy: 0.3304\n",
            "Epoch 4/20\n",
            "49/49 [==============================] - 0s 5ms/step - loss: 0.3092 - accuracy: 0.8734 - binary_crossentropy: 0.3092 - val_loss: 0.3300 - val_accuracy: 0.8599 - val_binary_crossentropy: 0.3300\n",
            "Epoch 5/20\n",
            "49/49 [==============================] - 0s 5ms/step - loss: 0.3030 - accuracy: 0.8750 - binary_crossentropy: 0.3030 - val_loss: 0.3292 - val_accuracy: 0.8593 - val_binary_crossentropy: 0.3292\n",
            "Epoch 6/20\n",
            "49/49 [==============================] - 0s 5ms/step - loss: 0.2960 - accuracy: 0.8776 - binary_crossentropy: 0.2960 - val_loss: 0.3288 - val_accuracy: 0.8590 - val_binary_crossentropy: 0.3288\n",
            "Epoch 7/20\n",
            "49/49 [==============================] - 0s 5ms/step - loss: 0.2900 - accuracy: 0.8804 - binary_crossentropy: 0.2900 - val_loss: 0.3283 - val_accuracy: 0.8598 - val_binary_crossentropy: 0.3283\n",
            "Epoch 8/20\n",
            "49/49 [==============================] - 0s 5ms/step - loss: 0.2858 - accuracy: 0.8828 - binary_crossentropy: 0.2858 - val_loss: 0.3285 - val_accuracy: 0.8594 - val_binary_crossentropy: 0.3285\n",
            "Epoch 9/20\n",
            "49/49 [==============================] - 0s 5ms/step - loss: 0.2795 - accuracy: 0.8854 - binary_crossentropy: 0.2795 - val_loss: 0.3326 - val_accuracy: 0.8578 - val_binary_crossentropy: 0.3326\n",
            "Epoch 10/20\n",
            "49/49 [==============================] - 0s 5ms/step - loss: 0.2769 - accuracy: 0.8854 - binary_crossentropy: 0.2769 - val_loss: 0.3309 - val_accuracy: 0.8579 - val_binary_crossentropy: 0.3309\n",
            "Epoch 11/20\n",
            "49/49 [==============================] - 0s 5ms/step - loss: 0.2714 - accuracy: 0.8894 - binary_crossentropy: 0.2714 - val_loss: 0.3340 - val_accuracy: 0.8566 - val_binary_crossentropy: 0.3340\n",
            "Epoch 12/20\n",
            "49/49 [==============================] - 0s 5ms/step - loss: 0.2615 - accuracy: 0.8941 - binary_crossentropy: 0.2615 - val_loss: 0.3360 - val_accuracy: 0.8569 - val_binary_crossentropy: 0.3360\n",
            "Epoch 13/20\n",
            "49/49 [==============================] - 0s 5ms/step - loss: 0.2552 - accuracy: 0.8977 - binary_crossentropy: 0.2552 - val_loss: 0.3379 - val_accuracy: 0.8556 - val_binary_crossentropy: 0.3379\n",
            "Epoch 14/20\n",
            "49/49 [==============================] - 0s 5ms/step - loss: 0.2455 - accuracy: 0.9016 - binary_crossentropy: 0.2455 - val_loss: 0.3418 - val_accuracy: 0.8540 - val_binary_crossentropy: 0.3418\n",
            "Epoch 15/20\n",
            "49/49 [==============================] - 0s 5ms/step - loss: 0.2385 - accuracy: 0.9062 - binary_crossentropy: 0.2385 - val_loss: 0.3496 - val_accuracy: 0.8516 - val_binary_crossentropy: 0.3496\n",
            "Epoch 16/20\n",
            "49/49 [==============================] - 0s 5ms/step - loss: 0.2313 - accuracy: 0.9082 - binary_crossentropy: 0.2313 - val_loss: 0.3667 - val_accuracy: 0.8473 - val_binary_crossentropy: 0.3667\n",
            "Epoch 17/20\n",
            "49/49 [==============================] - 0s 5ms/step - loss: 0.2226 - accuracy: 0.9122 - binary_crossentropy: 0.2226 - val_loss: 0.3583 - val_accuracy: 0.8517 - val_binary_crossentropy: 0.3583\n",
            "Epoch 18/20\n",
            "49/49 [==============================] - 0s 5ms/step - loss: 0.2149 - accuracy: 0.9166 - binary_crossentropy: 0.2149 - val_loss: 0.3609 - val_accuracy: 0.8506 - val_binary_crossentropy: 0.3609\n",
            "Epoch 19/20\n",
            "49/49 [==============================] - 0s 5ms/step - loss: 0.2072 - accuracy: 0.9202 - binary_crossentropy: 0.2072 - val_loss: 0.3733 - val_accuracy: 0.8470 - val_binary_crossentropy: 0.3733\n",
            "Epoch 20/20\n",
            "49/49 [==============================] - 0s 5ms/step - loss: 0.2004 - accuracy: 0.9232 - binary_crossentropy: 0.2004 - val_loss: 0.3771 - val_accuracy: 0.8471 - val_binary_crossentropy: 0.3771\n"
          ],
          "name": "stdout"
        }
      ]
    },
    {
      "cell_type": "markdown",
      "metadata": {
        "id": "olUyemzOu7kr"
      },
      "source": [
        "#작은 모델 만들기\n",
        "앞서 만든 모델에 비해 작은 모델을 만들겠습니다."
      ]
    },
    {
      "cell_type": "code",
      "metadata": {
        "id": "Ybws3L8mu5R8",
        "outputId": "390c5ab6-384f-4fdd-f4ed-6b5e30eefe13",
        "colab": {
          "base_uri": "https://localhost:8080/"
        }
      },
      "source": [
        "smaller_model = keras.Sequential([\n",
        "    keras.layers.Dense(4, activation='relu', input_shape=(NUM_WORDS,)),\n",
        "    keras.layers.Dense(4, activation='relu'),\n",
        "    keras.layers.Dense(1, activation='sigmoid')\n",
        "])\n",
        "\n",
        "smaller_model.compile(\n",
        "    optimizer='adam',\n",
        "    loss='binary_crossentropy',\n",
        "    metrics=['accuracy', 'binary_crossentropy']\n",
        ")\n",
        "\n",
        "smaller_model.summary()"
      ],
      "execution_count": null,
      "outputs": [
        {
          "output_type": "stream",
          "text": [
            "Model: \"sequential_1\"\n",
            "_________________________________________________________________\n",
            "Layer (type)                 Output Shape              Param #   \n",
            "=================================================================\n",
            "dense_3 (Dense)              (None, 4)                 4004      \n",
            "_________________________________________________________________\n",
            "dense_4 (Dense)              (None, 4)                 20        \n",
            "_________________________________________________________________\n",
            "dense_5 (Dense)              (None, 1)                 5         \n",
            "=================================================================\n",
            "Total params: 4,029\n",
            "Trainable params: 4,029\n",
            "Non-trainable params: 0\n",
            "_________________________________________________________________\n"
          ],
          "name": "stdout"
        }
      ]
    },
    {
      "cell_type": "code",
      "metadata": {
        "id": "yENgK5NGvsT4",
        "outputId": "c3bc25aa-d88d-4523-a2b7-19440e595b93",
        "colab": {
          "base_uri": "https://localhost:8080/"
        }
      },
      "source": [
        "smaller_history = smaller_model.fit(\n",
        "    train_data,\n",
        "    train_labels,\n",
        "    epochs=20,\n",
        "    batch_size=512,\n",
        "    validation_data=(test_data, test_labels),\n",
        "    verbose=1\n",
        ")"
      ],
      "execution_count": null,
      "outputs": [
        {
          "output_type": "stream",
          "text": [
            "Epoch 1/20\n",
            "49/49 [==============================] - 0s 9ms/step - loss: 0.6608 - accuracy: 0.6113 - binary_crossentropy: 0.6608 - val_loss: 0.6118 - val_accuracy: 0.7030 - val_binary_crossentropy: 0.6118\n",
            "Epoch 2/20\n",
            "49/49 [==============================] - 0s 5ms/step - loss: 0.5392 - accuracy: 0.7736 - binary_crossentropy: 0.5392 - val_loss: 0.4819 - val_accuracy: 0.8165 - val_binary_crossentropy: 0.4819\n",
            "Epoch 3/20\n",
            "49/49 [==============================] - 0s 5ms/step - loss: 0.4212 - accuracy: 0.8394 - binary_crossentropy: 0.4212 - val_loss: 0.3901 - val_accuracy: 0.8455 - val_binary_crossentropy: 0.3901\n",
            "Epoch 4/20\n",
            "49/49 [==============================] - 0s 5ms/step - loss: 0.3552 - accuracy: 0.8617 - binary_crossentropy: 0.3552 - val_loss: 0.3530 - val_accuracy: 0.8559 - val_binary_crossentropy: 0.3530\n",
            "Epoch 5/20\n",
            "49/49 [==============================] - 0s 5ms/step - loss: 0.3264 - accuracy: 0.8692 - binary_crossentropy: 0.3264 - val_loss: 0.3389 - val_accuracy: 0.8592 - val_binary_crossentropy: 0.3389\n",
            "Epoch 6/20\n",
            "49/49 [==============================] - 0s 5ms/step - loss: 0.3135 - accuracy: 0.8735 - binary_crossentropy: 0.3135 - val_loss: 0.3348 - val_accuracy: 0.8604 - val_binary_crossentropy: 0.3348\n",
            "Epoch 7/20\n",
            "49/49 [==============================] - 0s 5ms/step - loss: 0.3058 - accuracy: 0.8768 - binary_crossentropy: 0.3058 - val_loss: 0.3321 - val_accuracy: 0.8594 - val_binary_crossentropy: 0.3321\n",
            "Epoch 8/20\n",
            "49/49 [==============================] - 0s 5ms/step - loss: 0.3011 - accuracy: 0.8782 - binary_crossentropy: 0.3011 - val_loss: 0.3310 - val_accuracy: 0.8601 - val_binary_crossentropy: 0.3310\n",
            "Epoch 9/20\n",
            "49/49 [==============================] - 0s 5ms/step - loss: 0.2987 - accuracy: 0.8774 - binary_crossentropy: 0.2987 - val_loss: 0.3391 - val_accuracy: 0.8564 - val_binary_crossentropy: 0.3391\n",
            "Epoch 10/20\n",
            "49/49 [==============================] - 0s 5ms/step - loss: 0.2985 - accuracy: 0.8789 - binary_crossentropy: 0.2985 - val_loss: 0.3439 - val_accuracy: 0.8547 - val_binary_crossentropy: 0.3439\n",
            "Epoch 11/20\n",
            "49/49 [==============================] - 0s 5ms/step - loss: 0.2941 - accuracy: 0.8794 - binary_crossentropy: 0.2941 - val_loss: 0.3315 - val_accuracy: 0.8586 - val_binary_crossentropy: 0.3315\n",
            "Epoch 12/20\n",
            "49/49 [==============================] - 0s 5ms/step - loss: 0.2906 - accuracy: 0.8832 - binary_crossentropy: 0.2906 - val_loss: 0.3333 - val_accuracy: 0.8586 - val_binary_crossentropy: 0.3333\n",
            "Epoch 13/20\n",
            "49/49 [==============================] - 0s 5ms/step - loss: 0.2887 - accuracy: 0.8822 - binary_crossentropy: 0.2887 - val_loss: 0.3341 - val_accuracy: 0.8594 - val_binary_crossentropy: 0.3341\n",
            "Epoch 14/20\n",
            "49/49 [==============================] - 0s 5ms/step - loss: 0.2875 - accuracy: 0.8824 - binary_crossentropy: 0.2875 - val_loss: 0.3351 - val_accuracy: 0.8578 - val_binary_crossentropy: 0.3351\n",
            "Epoch 15/20\n",
            "49/49 [==============================] - 0s 5ms/step - loss: 0.2843 - accuracy: 0.8843 - binary_crossentropy: 0.2843 - val_loss: 0.3352 - val_accuracy: 0.8577 - val_binary_crossentropy: 0.3352\n",
            "Epoch 16/20\n",
            "49/49 [==============================] - 0s 5ms/step - loss: 0.2828 - accuracy: 0.8848 - binary_crossentropy: 0.2828 - val_loss: 0.3368 - val_accuracy: 0.8576 - val_binary_crossentropy: 0.3368\n",
            "Epoch 17/20\n",
            "49/49 [==============================] - 0s 5ms/step - loss: 0.2810 - accuracy: 0.8846 - binary_crossentropy: 0.2810 - val_loss: 0.3380 - val_accuracy: 0.8580 - val_binary_crossentropy: 0.3380\n",
            "Epoch 18/20\n",
            "49/49 [==============================] - 0s 5ms/step - loss: 0.2807 - accuracy: 0.8844 - binary_crossentropy: 0.2807 - val_loss: 0.3381 - val_accuracy: 0.8577 - val_binary_crossentropy: 0.3381\n",
            "Epoch 19/20\n",
            "49/49 [==============================] - 0s 5ms/step - loss: 0.2786 - accuracy: 0.8857 - binary_crossentropy: 0.2786 - val_loss: 0.3395 - val_accuracy: 0.8569 - val_binary_crossentropy: 0.3395\n",
            "Epoch 20/20\n",
            "49/49 [==============================] - 0s 5ms/step - loss: 0.2768 - accuracy: 0.8865 - binary_crossentropy: 0.2768 - val_loss: 0.3411 - val_accuracy: 0.8562 - val_binary_crossentropy: 0.3411\n"
          ],
          "name": "stdout"
        }
      ]
    },
    {
      "cell_type": "code",
      "metadata": {
        "id": "hbWvu6d0v_fV",
        "outputId": "88a4b675-fa0c-4549-e58c-c165ae324481",
        "colab": {
          "base_uri": "https://localhost:8080/"
        }
      },
      "source": [
        "bigger_model = keras.Sequential([\n",
        "    keras.layers.Dense(512, activation='relu', input_shape=(NUM_WORDS,)),\n",
        "    keras.layers.Dense(512, activation='relu'),\n",
        "    keras.layers.Dense(1, activation='sigmoid')\n",
        "])\n",
        "\n",
        "bigger_model.compile(\n",
        "    optimizer='adam',\n",
        "    loss='binary_crossentropy',\n",
        "    metrics=['accuracy', 'binary_crossentropy'],\n",
        ")\n",
        "\n",
        "bigger_model.summary()"
      ],
      "execution_count": null,
      "outputs": [
        {
          "output_type": "stream",
          "text": [
            "Model: \"sequential_2\"\n",
            "_________________________________________________________________\n",
            "Layer (type)                 Output Shape              Param #   \n",
            "=================================================================\n",
            "dense_6 (Dense)              (None, 512)               512512    \n",
            "_________________________________________________________________\n",
            "dense_7 (Dense)              (None, 512)               262656    \n",
            "_________________________________________________________________\n",
            "dense_8 (Dense)              (None, 1)                 513       \n",
            "=================================================================\n",
            "Total params: 775,681\n",
            "Trainable params: 775,681\n",
            "Non-trainable params: 0\n",
            "_________________________________________________________________\n"
          ],
          "name": "stdout"
        }
      ]
    },
    {
      "cell_type": "code",
      "metadata": {
        "id": "ZxU1RPkNyrdD",
        "outputId": "6b35c08e-8b75-4295-cb8f-d00ceb6bd351",
        "colab": {
          "base_uri": "https://localhost:8080/"
        }
      },
      "source": [
        "bigger_history = bigger_model.fit(\n",
        "    train_data,\n",
        "    train_labels,\n",
        "    epochs=20,\n",
        "    batch_size=512,\n",
        "    validation_data=(test_data, test_labels),\n",
        "    verbose=2\n",
        ")"
      ],
      "execution_count": null,
      "outputs": [
        {
          "output_type": "stream",
          "text": [
            "Epoch 1/20\n",
            "49/49 - 3s - loss: 0.4074 - accuracy: 0.8138 - binary_crossentropy: 0.4074 - val_loss: 0.3301 - val_accuracy: 0.8579 - val_binary_crossentropy: 0.3301\n",
            "Epoch 2/20\n",
            "49/49 - 3s - loss: 0.2893 - accuracy: 0.8800 - binary_crossentropy: 0.2893 - val_loss: 0.3346 - val_accuracy: 0.8555 - val_binary_crossentropy: 0.3346\n",
            "Epoch 3/20\n",
            "49/49 - 2s - loss: 0.2266 - accuracy: 0.9108 - binary_crossentropy: 0.2266 - val_loss: 0.3352 - val_accuracy: 0.8583 - val_binary_crossentropy: 0.3352\n",
            "Epoch 4/20\n",
            "49/49 - 3s - loss: 0.1075 - accuracy: 0.9658 - binary_crossentropy: 0.1075 - val_loss: 0.4177 - val_accuracy: 0.8474 - val_binary_crossentropy: 0.4177\n",
            "Epoch 5/20\n",
            "49/49 - 3s - loss: 0.0247 - accuracy: 0.9959 - binary_crossentropy: 0.0247 - val_loss: 0.5430 - val_accuracy: 0.8476 - val_binary_crossentropy: 0.5430\n",
            "Epoch 6/20\n",
            "49/49 - 2s - loss: 0.0055 - accuracy: 0.9998 - binary_crossentropy: 0.0055 - val_loss: 0.6189 - val_accuracy: 0.8494 - val_binary_crossentropy: 0.6189\n",
            "Epoch 7/20\n",
            "49/49 - 3s - loss: 0.0013 - accuracy: 1.0000 - binary_crossentropy: 0.0013 - val_loss: 0.6743 - val_accuracy: 0.8513 - val_binary_crossentropy: 0.6743\n",
            "Epoch 8/20\n",
            "49/49 - 3s - loss: 0.0012 - accuracy: 0.9999 - binary_crossentropy: 0.0012 - val_loss: 0.7307 - val_accuracy: 0.8488 - val_binary_crossentropy: 0.7307\n",
            "Epoch 9/20\n",
            "49/49 - 3s - loss: 5.7330e-04 - accuracy: 1.0000 - binary_crossentropy: 5.7330e-04 - val_loss: 0.7266 - val_accuracy: 0.8513 - val_binary_crossentropy: 0.7266\n",
            "Epoch 10/20\n",
            "49/49 - 2s - loss: 4.8455e-04 - accuracy: 1.0000 - binary_crossentropy: 4.8455e-04 - val_loss: 0.7547 - val_accuracy: 0.8503 - val_binary_crossentropy: 0.7547\n",
            "Epoch 11/20\n",
            "49/49 - 2s - loss: 3.0778e-04 - accuracy: 1.0000 - binary_crossentropy: 3.0778e-04 - val_loss: 0.7629 - val_accuracy: 0.8518 - val_binary_crossentropy: 0.7629\n",
            "Epoch 12/20\n",
            "49/49 - 2s - loss: 2.1267e-04 - accuracy: 1.0000 - binary_crossentropy: 2.1267e-04 - val_loss: 0.7796 - val_accuracy: 0.8522 - val_binary_crossentropy: 0.7796\n",
            "Epoch 13/20\n",
            "49/49 - 2s - loss: 1.7022e-04 - accuracy: 1.0000 - binary_crossentropy: 1.7022e-04 - val_loss: 0.7940 - val_accuracy: 0.8523 - val_binary_crossentropy: 0.7940\n",
            "Epoch 14/20\n",
            "49/49 - 3s - loss: 1.4204e-04 - accuracy: 1.0000 - binary_crossentropy: 1.4204e-04 - val_loss: 0.8062 - val_accuracy: 0.8520 - val_binary_crossentropy: 0.8062\n",
            "Epoch 15/20\n",
            "49/49 - 3s - loss: 1.2078e-04 - accuracy: 1.0000 - binary_crossentropy: 1.2078e-04 - val_loss: 0.8176 - val_accuracy: 0.8522 - val_binary_crossentropy: 0.8176\n",
            "Epoch 16/20\n",
            "49/49 - 2s - loss: 1.0437e-04 - accuracy: 1.0000 - binary_crossentropy: 1.0437e-04 - val_loss: 0.8280 - val_accuracy: 0.8524 - val_binary_crossentropy: 0.8280\n",
            "Epoch 17/20\n",
            "49/49 - 2s - loss: 9.0782e-05 - accuracy: 1.0000 - binary_crossentropy: 9.0782e-05 - val_loss: 0.8386 - val_accuracy: 0.8524 - val_binary_crossentropy: 0.8386\n",
            "Epoch 18/20\n",
            "49/49 - 2s - loss: 7.9749e-05 - accuracy: 1.0000 - binary_crossentropy: 7.9749e-05 - val_loss: 0.8491 - val_accuracy: 0.8521 - val_binary_crossentropy: 0.8491\n",
            "Epoch 19/20\n",
            "49/49 - 2s - loss: 7.0669e-05 - accuracy: 1.0000 - binary_crossentropy: 7.0669e-05 - val_loss: 0.8566 - val_accuracy: 0.8526 - val_binary_crossentropy: 0.8566\n",
            "Epoch 20/20\n",
            "49/49 - 2s - loss: 6.2703e-05 - accuracy: 1.0000 - binary_crossentropy: 6.2703e-05 - val_loss: 0.8658 - val_accuracy: 0.8522 - val_binary_crossentropy: 0.8658\n"
          ],
          "name": "stdout"
        }
      ]
    },
    {
      "cell_type": "code",
      "metadata": {
        "id": "jNrDH_-ozjNn",
        "outputId": "1330d4dc-50f4-4108-86a4-06eda561d2f3",
        "colab": {
          "base_uri": "https://localhost:8080/"
        }
      },
      "source": [
        "dir(baseline_history.history)"
      ],
      "execution_count": null,
      "outputs": [
        {
          "output_type": "execute_result",
          "data": {
            "text/plain": [
              "['__class__',\n",
              " '__contains__',\n",
              " '__delattr__',\n",
              " '__delitem__',\n",
              " '__dir__',\n",
              " '__doc__',\n",
              " '__eq__',\n",
              " '__format__',\n",
              " '__ge__',\n",
              " '__getattribute__',\n",
              " '__getitem__',\n",
              " '__gt__',\n",
              " '__hash__',\n",
              " '__init__',\n",
              " '__init_subclass__',\n",
              " '__iter__',\n",
              " '__le__',\n",
              " '__len__',\n",
              " '__lt__',\n",
              " '__ne__',\n",
              " '__new__',\n",
              " '__reduce__',\n",
              " '__reduce_ex__',\n",
              " '__repr__',\n",
              " '__setattr__',\n",
              " '__setitem__',\n",
              " '__sizeof__',\n",
              " '__str__',\n",
              " '__subclasshook__',\n",
              " 'clear',\n",
              " 'copy',\n",
              " 'fromkeys',\n",
              " 'get',\n",
              " 'items',\n",
              " 'keys',\n",
              " 'pop',\n",
              " 'popitem',\n",
              " 'setdefault',\n",
              " 'update',\n",
              " 'values']"
            ]
          },
          "metadata": {
            "tags": []
          },
          "execution_count": 20
        }
      ]
    },
    {
      "cell_type": "code",
      "metadata": {
        "id": "UqDN0RsMzzCV",
        "outputId": "26d30075-a6b1-4400-f354-8918e4bf918c",
        "colab": {
          "base_uri": "https://localhost:8080/"
        }
      },
      "source": [
        "baseline_history.history.keys()"
      ],
      "execution_count": null,
      "outputs": [
        {
          "output_type": "execute_result",
          "data": {
            "text/plain": [
              "dict_keys(['loss', 'accuracy', 'binary_crossentropy', 'val_loss', 'val_accuracy', 'val_binary_crossentropy'])"
            ]
          },
          "metadata": {
            "tags": []
          },
          "execution_count": 21
        }
      ]
    },
    {
      "cell_type": "code",
      "metadata": {
        "id": "G8-3Ou26z3GC",
        "outputId": "1306ee05-6fa3-4ab8-b449-5b850be888d9",
        "colab": {
          "base_uri": "https://localhost:8080/",
          "height": 282
        }
      },
      "source": [
        "plt.figure()\n",
        "plt.plot(baseline_history.epoch, baseline_history.history['accuracy'], label='baseline_acc')\n",
        "plt.plot(baseline_history.epoch, baseline_history.history['val_accuracy'], label='baseline_val_acc')\n",
        "plt.plot(smaller_history.epoch, smaller_history.history['accuracy'], label='smaller_acc')\n",
        "plt.plot(smaller_history.epoch, smaller_history.history['accuracy'], label='smaller_val_acc')\n",
        "plt.plot(bigger_history.epoch, bigger_history.history['accuracy'], label='bigger_acc')\n",
        "plt.plot(bigger_history.epoch, bigger_history.history['accuracy'], label='bigger_val_acc')\n",
        "plt.legend()\n"
      ],
      "execution_count": null,
      "outputs": [
        {
          "output_type": "execute_result",
          "data": {
            "text/plain": [
              "<matplotlib.legend.Legend at 0x7fe4f4314eb8>"
            ]
          },
          "metadata": {
            "tags": []
          },
          "execution_count": 22
        },
        {
          "output_type": "display_data",
          "data": {
            "image/png": "[encoded data removed]",
            "text/plain": [
              "<Figure size 432x288 with 1 Axes>"
            ]
          },
          "metadata": {
            "tags": [],
            "needs_background": "light"
          }
        }
      ]
    },
    {
      "cell_type": "code",
      "metadata": {
        "id": "rjpltg5h1x_p",
        "outputId": "9b8fd4ff-2608-474e-c5a3-a6d6c52b770b",
        "colab": {
          "base_uri": "https://localhost:8080/"
        }
      },
      "source": [
        "l2_model = keras.Sequential([\n",
        "    keras.layers.Dense(16, kernel_regularizer=keras.regularizers.l2(0.001),\n",
        "                       activation='relu', input_shape=(NUM_WORDS,)),\n",
        "    keras.layers.Dense(16, kernel_regularizer=keras.regularizers.l2(0.001),\n",
        "                       activation='relu'),\n",
        "    keras.layers.Dense(1, activation='sigmoid')\n",
        "])\n",
        "\n",
        "l2_model.compile(\n",
        "    optimizer='adam',\n",
        "    loss='binary_crossentropy',\n",
        "    metrics=['accuracy', 'binary_crossentropy']\n",
        ")\n",
        "\n",
        "l2_history = l2_model.fit(\n",
        "    train_data,\n",
        "    train_labels,\n",
        "    epochs=20,\n",
        "    batch_size=512,\n",
        "    validation_data=(test_data, test_labels),\n",
        "    verbose=1\n",
        ")"
      ],
      "execution_count": null,
      "outputs": [
        {
          "output_type": "stream",
          "text": [
            "Epoch 1/20\n",
            "49/49 [==============================] - 1s 12ms/step - loss: 0.6323 - accuracy: 0.6991 - binary_crossentropy: 0.5893 - val_loss: 0.4863 - val_accuracy: 0.8188 - val_binary_crossentropy: 0.4458\n",
            "Epoch 2/20\n",
            "49/49 [==============================] - 0s 6ms/step - loss: 0.4170 - accuracy: 0.8464 - binary_crossentropy: 0.3769 - val_loss: 0.3864 - val_accuracy: 0.8557 - val_binary_crossentropy: 0.3469\n",
            "Epoch 3/20\n",
            "49/49 [==============================] - 0s 5ms/step - loss: 0.3632 - accuracy: 0.8661 - binary_crossentropy: 0.3247 - val_loss: 0.3703 - val_accuracy: 0.8596 - val_binary_crossentropy: 0.3328\n",
            "Epoch 4/20\n",
            "49/49 [==============================] - 0s 6ms/step - loss: 0.3490 - accuracy: 0.8700 - binary_crossentropy: 0.3123 - val_loss: 0.3647 - val_accuracy: 0.8601 - val_binary_crossentropy: 0.3289\n",
            "Epoch 5/20\n",
            "49/49 [==============================] - 0s 6ms/step - loss: 0.3425 - accuracy: 0.8724 - binary_crossentropy: 0.3075 - val_loss: 0.3645 - val_accuracy: 0.8599 - val_binary_crossentropy: 0.3303\n",
            "Epoch 6/20\n",
            "49/49 [==============================] - 0s 5ms/step - loss: 0.3361 - accuracy: 0.8744 - binary_crossentropy: 0.3026 - val_loss: 0.3602 - val_accuracy: 0.8602 - val_binary_crossentropy: 0.3275\n",
            "Epoch 7/20\n",
            "49/49 [==============================] - 0s 6ms/step - loss: 0.3341 - accuracy: 0.8762 - binary_crossentropy: 0.3018 - val_loss: 0.3605 - val_accuracy: 0.8595 - val_binary_crossentropy: 0.3290\n",
            "Epoch 8/20\n",
            "49/49 [==============================] - 0s 5ms/step - loss: 0.3330 - accuracy: 0.8738 - binary_crossentropy: 0.3020 - val_loss: 0.3576 - val_accuracy: 0.8598 - val_binary_crossentropy: 0.3272\n",
            "Epoch 9/20\n",
            "49/49 [==============================] - 0s 6ms/step - loss: 0.3305 - accuracy: 0.8744 - binary_crossentropy: 0.3005 - val_loss: 0.3594 - val_accuracy: 0.8598 - val_binary_crossentropy: 0.3299\n",
            "Epoch 10/20\n",
            "49/49 [==============================] - 0s 5ms/step - loss: 0.3267 - accuracy: 0.8771 - binary_crossentropy: 0.2976 - val_loss: 0.3563 - val_accuracy: 0.8594 - val_binary_crossentropy: 0.3276\n",
            "Epoch 11/20\n",
            "49/49 [==============================] - 0s 6ms/step - loss: 0.3245 - accuracy: 0.8774 - binary_crossentropy: 0.2961 - val_loss: 0.3550 - val_accuracy: 0.8593 - val_binary_crossentropy: 0.3270\n",
            "Epoch 12/20\n",
            "49/49 [==============================] - 0s 5ms/step - loss: 0.3227 - accuracy: 0.8776 - binary_crossentropy: 0.2950 - val_loss: 0.3609 - val_accuracy: 0.8577 - val_binary_crossentropy: 0.3334\n",
            "Epoch 13/20\n",
            "49/49 [==============================] - 0s 5ms/step - loss: 0.3206 - accuracy: 0.8776 - binary_crossentropy: 0.2932 - val_loss: 0.3509 - val_accuracy: 0.8603 - val_binary_crossentropy: 0.3237\n",
            "Epoch 14/20\n",
            "49/49 [==============================] - 0s 5ms/step - loss: 0.3184 - accuracy: 0.8785 - binary_crossentropy: 0.2912 - val_loss: 0.3505 - val_accuracy: 0.8602 - val_binary_crossentropy: 0.3236\n",
            "Epoch 15/20\n",
            "49/49 [==============================] - 0s 6ms/step - loss: 0.3148 - accuracy: 0.8800 - binary_crossentropy: 0.2878 - val_loss: 0.3503 - val_accuracy: 0.8603 - val_binary_crossentropy: 0.3234\n",
            "Epoch 16/20\n",
            "49/49 [==============================] - 0s 5ms/step - loss: 0.3120 - accuracy: 0.8815 - binary_crossentropy: 0.2851 - val_loss: 0.3493 - val_accuracy: 0.8607 - val_binary_crossentropy: 0.3223\n",
            "Epoch 17/20\n",
            "49/49 [==============================] - 0s 5ms/step - loss: 0.3101 - accuracy: 0.8820 - binary_crossentropy: 0.2830 - val_loss: 0.3493 - val_accuracy: 0.8606 - val_binary_crossentropy: 0.3222\n",
            "Epoch 18/20\n",
            "49/49 [==============================] - 0s 6ms/step - loss: 0.3072 - accuracy: 0.8832 - binary_crossentropy: 0.2799 - val_loss: 0.3499 - val_accuracy: 0.8596 - val_binary_crossentropy: 0.3224\n",
            "Epoch 19/20\n",
            "49/49 [==============================] - 0s 6ms/step - loss: 0.3034 - accuracy: 0.8859 - binary_crossentropy: 0.2755 - val_loss: 0.3508 - val_accuracy: 0.8595 - val_binary_crossentropy: 0.3227\n",
            "Epoch 20/20\n",
            "49/49 [==============================] - 0s 5ms/step - loss: 0.3000 - accuracy: 0.8856 - binary_crossentropy: 0.2715 - val_loss: 0.3526 - val_accuracy: 0.8608 - val_binary_crossentropy: 0.3238\n"
          ],
          "name": "stdout"
        }
      ]
    },
    {
      "cell_type": "code",
      "metadata": {
        "id": "iOS0ifmF2CNy",
        "outputId": "8197c5d2-9d7f-42b0-87f7-cacfdbb7e48f",
        "colab": {
          "base_uri": "https://localhost:8080/",
          "height": 282
        }
      },
      "source": [
        "plt.figure()\n",
        "plt.plot(baseline_history.epoch, baseline_history.history['binary_crossentropy'], label='baseline')\n",
        "plt.plot(baseline_history.epoch, baseline_history.history['val_binary_crossentropy'], label='baseline_val')\n",
        "plt.plot(l2_history.epoch, l2_history.history['binary_crossentropy'], label='l2')\n",
        "plt.plot(l2_history.epoch, l2_history.history['val_binary_crossentropy'], label='l2_val')\n",
        "plt.legend()\n"
      ],
      "execution_count": null,
      "outputs": [
        {
          "output_type": "execute_result",
          "data": {
            "text/plain": [
              "<matplotlib.legend.Legend at 0x7fe4eab184a8>"
            ]
          },
          "metadata": {
            "tags": []
          },
          "execution_count": 28
        },
        {
          "output_type": "display_data",
          "data": {
            "image/png": "[encoded data removed]",
            "text/plain": [
              "<Figure size 432x288 with 1 Axes>"
            ]
          },
          "metadata": {
            "tags": [],
            "needs_background": "light"
          }
        }
      ]
    },
    {
      "cell_type": "code",
      "metadata": {
        "id": "QgtkjFt74jOH",
        "outputId": "9a9d0cd5-0d9b-4886-9fdb-dcf7a5b96827",
        "colab": {
          "base_uri": "https://localhost:8080/"
        }
      },
      "source": [
        "drop_model = keras.Sequential([\n",
        "    keras.layers.Dense(16, activation='relu', input_shape=(NUM_WORDS,)),\n",
        "    keras.layers.Dropout(0.5),\n",
        "    keras.layers.Dense(16, activation='relu'),\n",
        "    keras.layers.Dropout(0.5),\n",
        "    keras.layers.Dense(1, activation='sigmoid')\n",
        "])\n",
        "\n",
        "drop_model.compile(\n",
        "    optimizer='adam',\n",
        "    loss='binary_crossentropy',\n",
        "    metrics=['accuracy', 'binary_crossentropy']\n",
        ")\n",
        "\n",
        "drop_history = drop_model.fit(\n",
        "    train_data,\n",
        "    train_labels,\n",
        "    epochs=20,\n",
        "    batch_size=512,\n",
        "    validation_data=(test_data, test_labels),\n",
        "    verbose=1\n",
        ")"
      ],
      "execution_count": null,
      "outputs": [
        {
          "output_type": "stream",
          "text": [
            "Epoch 1/20\n",
            "49/49 [==============================] - 0s 10ms/step - loss: 0.6760 - accuracy: 0.5688 - binary_crossentropy: 0.6760 - val_loss: 0.6093 - val_accuracy: 0.7583 - val_binary_crossentropy: 0.6093\n",
            "Epoch 2/20\n",
            "49/49 [==============================] - 0s 8ms/step - loss: 0.5815 - accuracy: 0.6963 - binary_crossentropy: 0.5815 - val_loss: 0.4643 - val_accuracy: 0.8306 - val_binary_crossentropy: 0.4643\n",
            "Epoch 3/20\n",
            "49/49 [==============================] - 0s 9ms/step - loss: 0.4833 - accuracy: 0.7777 - binary_crossentropy: 0.4833 - val_loss: 0.3799 - val_accuracy: 0.8476 - val_binary_crossentropy: 0.3799\n",
            "Epoch 4/20\n",
            "49/49 [==============================] - 0s 8ms/step - loss: 0.4297 - accuracy: 0.8148 - binary_crossentropy: 0.4297 - val_loss: 0.3482 - val_accuracy: 0.8544 - val_binary_crossentropy: 0.3482\n",
            "Epoch 5/20\n",
            "49/49 [==============================] - 0s 9ms/step - loss: 0.4010 - accuracy: 0.8291 - binary_crossentropy: 0.4010 - val_loss: 0.3342 - val_accuracy: 0.8576 - val_binary_crossentropy: 0.3342\n",
            "Epoch 6/20\n",
            "49/49 [==============================] - 0s 9ms/step - loss: 0.3767 - accuracy: 0.8418 - binary_crossentropy: 0.3767 - val_loss: 0.3243 - val_accuracy: 0.8592 - val_binary_crossentropy: 0.3243\n",
            "Epoch 7/20\n",
            "49/49 [==============================] - 0s 10ms/step - loss: 0.3670 - accuracy: 0.8496 - binary_crossentropy: 0.3670 - val_loss: 0.3240 - val_accuracy: 0.8590 - val_binary_crossentropy: 0.3240\n",
            "Epoch 8/20\n",
            "49/49 [==============================] - 0s 8ms/step - loss: 0.3497 - accuracy: 0.8618 - binary_crossentropy: 0.3497 - val_loss: 0.3206 - val_accuracy: 0.8617 - val_binary_crossentropy: 0.3206\n",
            "Epoch 9/20\n",
            "49/49 [==============================] - 0s 8ms/step - loss: 0.3447 - accuracy: 0.8670 - binary_crossentropy: 0.3447 - val_loss: 0.3210 - val_accuracy: 0.8606 - val_binary_crossentropy: 0.3210\n",
            "Epoch 10/20\n",
            "49/49 [==============================] - 0s 8ms/step - loss: 0.3351 - accuracy: 0.8689 - binary_crossentropy: 0.3351 - val_loss: 0.3218 - val_accuracy: 0.8598 - val_binary_crossentropy: 0.3218\n",
            "Epoch 11/20\n",
            "49/49 [==============================] - 0s 9ms/step - loss: 0.3305 - accuracy: 0.8720 - binary_crossentropy: 0.3305 - val_loss: 0.3228 - val_accuracy: 0.8599 - val_binary_crossentropy: 0.3228\n",
            "Epoch 12/20\n",
            "49/49 [==============================] - 0s 9ms/step - loss: 0.3210 - accuracy: 0.8775 - binary_crossentropy: 0.3210 - val_loss: 0.3246 - val_accuracy: 0.8595 - val_binary_crossentropy: 0.3246\n",
            "Epoch 13/20\n",
            "49/49 [==============================] - 0s 8ms/step - loss: 0.3201 - accuracy: 0.8807 - binary_crossentropy: 0.3201 - val_loss: 0.3246 - val_accuracy: 0.8594 - val_binary_crossentropy: 0.3246\n",
            "Epoch 14/20\n",
            "49/49 [==============================] - 0s 7ms/step - loss: 0.3117 - accuracy: 0.8817 - binary_crossentropy: 0.3117 - val_loss: 0.3300 - val_accuracy: 0.8568 - val_binary_crossentropy: 0.3300\n",
            "Epoch 15/20\n",
            "49/49 [==============================] - 0s 8ms/step - loss: 0.3103 - accuracy: 0.8836 - binary_crossentropy: 0.3103 - val_loss: 0.3279 - val_accuracy: 0.8590 - val_binary_crossentropy: 0.3279\n",
            "Epoch 16/20\n",
            "49/49 [==============================] - 0s 9ms/step - loss: 0.3076 - accuracy: 0.8856 - binary_crossentropy: 0.3076 - val_loss: 0.3309 - val_accuracy: 0.8577 - val_binary_crossentropy: 0.3309\n",
            "Epoch 17/20\n",
            "49/49 [==============================] - 0s 8ms/step - loss: 0.2976 - accuracy: 0.8878 - binary_crossentropy: 0.2976 - val_loss: 0.3316 - val_accuracy: 0.8594 - val_binary_crossentropy: 0.3316\n",
            "Epoch 18/20\n",
            "49/49 [==============================] - 0s 7ms/step - loss: 0.2982 - accuracy: 0.8897 - binary_crossentropy: 0.2982 - val_loss: 0.3329 - val_accuracy: 0.8604 - val_binary_crossentropy: 0.3329\n",
            "Epoch 19/20\n",
            "49/49 [==============================] - 0s 6ms/step - loss: 0.2923 - accuracy: 0.8916 - binary_crossentropy: 0.2923 - val_loss: 0.3349 - val_accuracy: 0.8575 - val_binary_crossentropy: 0.3349\n",
            "Epoch 20/20\n",
            "49/49 [==============================] - 0s 6ms/step - loss: 0.2858 - accuracy: 0.8950 - binary_crossentropy: 0.2858 - val_loss: 0.3405 - val_accuracy: 0.8578 - val_binary_crossentropy: 0.3405\n"
          ],
          "name": "stdout"
        }
      ]
    },
    {
      "cell_type": "code",
      "metadata": {
        "id": "xwpovmMU5gY0",
        "outputId": "c15bb1ff-9d0e-4872-9683-55b24f3f78fc",
        "colab": {
          "base_uri": "https://localhost:8080/",
          "height": 282
        }
      },
      "source": [
        "plt.figure()\n",
        "plt.plot(baseline_history.epoch, baseline_history.history['binary_crossentropy'], label='baseline')\n",
        "plt.plot(baseline_history.epoch, baseline_history.history['val_binary_crossentropy'], label='baseline_val')\n",
        "plt.plot(drop_history.epoch, drop_history.history['binary_crossentropy'], label='drop')\n",
        "plt.plot(drop_history.epoch, drop_history.history['val_binary_crossentropy'], label='drop_val')\n",
        "plt.legend()\n"
      ],
      "execution_count": null,
      "outputs": [
        {
          "output_type": "execute_result",
          "data": {
            "text/plain": [
              "<matplotlib.legend.Legend at 0x7fe4f5d6eb70>"
            ]
          },
          "metadata": {
            "tags": []
          },
          "execution_count": 30
        },
        {
          "output_type": "display_data",
          "data": {
            "image/png": "[encoded data removed]",
            "text/plain": [
              "<Figure size 432x288 with 1 Axes>"
            ]
          },
          "metadata": {
            "tags": [],
            "needs_background": "light"
          }
        }
      ]
    }
  ]
}