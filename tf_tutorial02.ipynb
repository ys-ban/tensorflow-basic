{
  "nbformat": 4,
  "nbformat_minor": 0,
  "metadata": {
    "colab": {
      "name": "tf_tutorial02.ipynb",
      "provenance": [],
      "collapsed_sections": []
    },
    "kernelspec": {
      "name": "python3",
      "display_name": "Python 3"
    }
  },
  "cells": [
    {
      "cell_type": "code",
      "metadata": {
        "id": "N9dJ4Ksp1Up3",
        "outputId": "3e7d0eff-bd43-4b29-d159-f9a7b4895e45",
        "colab": {
          "base_uri": "https://localhost:8080/",
          "height": 34
        }
      },
      "source": [
        "# 영화 리뷰 데이터 텍스트 분류\n",
        "# 주요 개념\n",
        "# 워드 임베딩, 원핫인코딩, 패딩??\n",
        "\n",
        "import tensorflow as tf\n",
        "from tensorflow import keras\n",
        "\n",
        "import numpy as np\n",
        "\n",
        "print(tf.__version__)"
      ],
      "execution_count": 2,
      "outputs": [
        {
          "output_type": "stream",
          "text": [
            "2.3.0\n"
          ],
          "name": "stdout"
        }
      ]
    },
    {
      "cell_type": "code",
      "metadata": {
        "id": "zFEBTaxGmzDk",
        "outputId": "524b4cb8-3a89-4317-d0f8-92a9ba1aae53",
        "colab": {
          "base_uri": "https://localhost:8080/",
          "height": 51
        }
      },
      "source": [
        "imdb = keras.datasets.imdb\n",
        "\n",
        "(train_data, train_labels), (test_data, test_labels) = imdb.load_data(num_words=10000)\n",
        "# keras의 dataset은 train_data & labels / test_data & labels로 구성된 것으로 보임\n",
        "# imdb의 num_words는 최빈 상위 몇번째까지 단어를 선택할지 의미함\n",
        "# 너무 드물게 등장하는 단어를 모두 포함시켜 학습하면 오히려 정확도가 떨어질 수 있음"
      ],
      "execution_count": 3,
      "outputs": [
        {
          "output_type": "stream",
          "text": [
            "Downloading data from https://storage.googleapis.com/tensorflow/tf-keras-datasets/imdb.npz\n",
            "17465344/17464789 [==============================] - 0s 0us/step\n"
          ],
          "name": "stdout"
        }
      ]
    },
    {
      "cell_type": "code",
      "metadata": {
        "id": "DkoPdt9Jnuue",
        "outputId": "586d6105-e1a7-42e3-88de-f7ed2493579d",
        "colab": {
          "base_uri": "https://localhost:8080/",
          "height": 68
        }
      },
      "source": [
        "print(\"train_data & labels : {}, {}\\ntest_data & labels : {}, {}\\n\".format(len(train_data), len(train_labels), len(test_data), len(test_labels)))"
      ],
      "execution_count": 4,
      "outputs": [
        {
          "output_type": "stream",
          "text": [
            "train_data & labels : 25000, 25000\n",
            "test_data & labels : 25000, 25000\n",
            "\n"
          ],
          "name": "stdout"
        }
      ]
    },
    {
      "cell_type": "code",
      "metadata": {
        "id": "_h3z8HOxr3Jy",
        "outputId": "8fc191a3-1dfd-45fb-8664-9013532d8f5e",
        "colab": {
          "base_uri": "https://localhost:8080/",
          "height": 54
        }
      },
      "source": [
        "print(train_data[0])"
      ],
      "execution_count": 5,
      "outputs": [
        {
          "output_type": "stream",
          "text": [
            "[1, 14, 22, 16, 43, 530, 973, 1622, 1385, 65, 458, 4468, 66, 3941, 4, 173, 36, 256, 5, 25, 100, 43, 838, 112, 50, 670, 2, 9, 35, 480, 284, 5, 150, 4, 172, 112, 167, 2, 336, 385, 39, 4, 172, 4536, 1111, 17, 546, 38, 13, 447, 4, 192, 50, 16, 6, 147, 2025, 19, 14, 22, 4, 1920, 4613, 469, 4, 22, 71, 87, 12, 16, 43, 530, 38, 76, 15, 13, 1247, 4, 22, 17, 515, 17, 12, 16, 626, 18, 2, 5, 62, 386, 12, 8, 316, 8, 106, 5, 4, 2223, 5244, 16, 480, 66, 3785, 33, 4, 130, 12, 16, 38, 619, 5, 25, 124, 51, 36, 135, 48, 25, 1415, 33, 6, 22, 12, 215, 28, 77, 52, 5, 14, 407, 16, 82, 2, 8, 4, 107, 117, 5952, 15, 256, 4, 2, 7, 3766, 5, 723, 36, 71, 43, 530, 476, 26, 400, 317, 46, 7, 4, 2, 1029, 13, 104, 88, 4, 381, 15, 297, 98, 32, 2071, 56, 26, 141, 6, 194, 7486, 18, 4, 226, 22, 21, 134, 476, 26, 480, 5, 144, 30, 5535, 18, 51, 36, 28, 224, 92, 25, 104, 4, 226, 65, 16, 38, 1334, 88, 12, 16, 283, 5, 16, 4472, 113, 103, 32, 15, 16, 5345, 19, 178, 32]\n"
          ],
          "name": "stdout"
        }
      ]
    },
    {
      "cell_type": "code",
      "metadata": {
        "id": "w0fP0PnjoIo_",
        "outputId": "fac5d380-b489-4c1e-f158-f9faedc01b25",
        "colab": {
          "base_uri": "https://localhost:8080/",
          "height": 71
        }
      },
      "source": [
        "word_index = imdb.get_word_index()\n",
        "\n",
        "word_index = {k:(v+3) for k, v in word_index.items()}\n",
        "word_index[\"<PAD>\"] = 0\n",
        "word_index[\"<START>\"] = 1\n",
        "word_index[\"<UNK>\"] = 2 # unknown\n",
        "word_index[\"<UNUSED>\"] = 3\n",
        "\n",
        "reverse_word_index = dict((value, key) for key, value in word_index.items())\n",
        "\n",
        "def decode_reviews(text):\n",
        "  return ' '.join([reverse_word_index.get(i, '?') for i in text])"
      ],
      "execution_count": 6,
      "outputs": [
        {
          "output_type": "stream",
          "text": [
            "Downloading data from https://storage.googleapis.com/tensorflow/tf-keras-datasets/imdb_word_index.json\n",
            "1646592/1641221 [==============================] - 0s 0us/step\n"
          ],
          "name": "stdout"
        }
      ]
    },
    {
      "cell_type": "code",
      "metadata": {
        "id": "acyy_g5nrpEW",
        "outputId": "54601f9a-bd00-4b0b-c971-eaae11009cf7",
        "colab": {
          "base_uri": "https://localhost:8080/",
          "height": 205
        }
      },
      "source": [
        "decode_reviews(train_data[0])"
      ],
      "execution_count": 7,
      "outputs": [
        {
          "output_type": "execute_result",
          "data": {
            "application/vnd.google.colaboratory.intrinsic+json": {
              "type": "string"
            },
            "text/plain": [
              "\"<START> this film was just brilliant casting location scenery story direction everyone's really suited the part they played and you could just imagine being there robert <UNK> is an amazing actor and now the same being director <UNK> father came from the same scottish island as myself so i loved the fact there was a real connection with this film the witty remarks throughout the film were great it was just brilliant so much that i bought the film as soon as it was released for <UNK> and would recommend it to everyone to watch and the fly fishing was amazing really cried at the end it was so sad and you know what they say if you cry at a film it must have been good and this definitely was also <UNK> to the two little boy's that played the <UNK> of norman and paul they were just brilliant children are often left out of the <UNK> list i think because the stars that play them all grown up are such a big profile for the whole film but these children are amazing and should be praised for what they have done don't you think the whole story was so lovely because it was true and was someone's life after all that was shared with us all\""
            ]
          },
          "metadata": {
            "tags": []
          },
          "execution_count": 7
        }
      ]
    },
    {
      "cell_type": "code",
      "metadata": {
        "id": "spXoOTEuHoeg"
      },
      "source": [
        "\"\"\"\n",
        "preprocessing = 전처리 모듈\n",
        "image, sequence, text의 submodule이 존재\n",
        "\n",
        "sequence는 3개의 함수를 갖음\n",
        "make_sampling_table: rank-based 확률 샘플링 어휘 테이블을 만들어냄\n",
        "pad_sequences: 서로 다른 길이의 sequence를 padding을 사용해 길이를 일치시켜줌\n",
        "skipgrams: skipgram word pairs를 만듦\n",
        "\n",
        "pad_sequences (\n",
        "padding = 'pre' or 'post' >> pre는 패딩을 앞에, post는 패딩을 뒤에 채워넣는 것\n",
        "value = 패딩으로 무엇을 삽입할지\n",
        "maxlen = 시퀀스의 최대 길이\n",
        ")\n",
        "\"\"\"\n",
        "\n",
        "train_data = keras.preprocessing.sequence.pad_sequences(\n",
        "    train_data,\n",
        "    value = word_index[\"<PAD>\"],\n",
        "    padding = 'post',\n",
        "    maxlen = 256\n",
        ")\n",
        "\n",
        "test_data = keras.preprocessing.sequence.pad_sequences(\n",
        "    test_data,\n",
        "    value = word_index[\"<PAD>\"],\n",
        "    padding = 'post',\n",
        "    maxlen = 256\n",
        ")"
      ],
      "execution_count": 11,
      "outputs": []
    },
    {
      "cell_type": "code",
      "metadata": {
        "id": "C-at0M_mOB5W",
        "outputId": "308aa6ec-7ce5-429a-a6e4-d551ec948a24",
        "colab": {
          "base_uri": "https://localhost:8080/",
          "height": 68
        }
      },
      "source": [
        "print(\"length of train_data[0]: {}\\nlength of test_data[0]: {}\\n\".format(len(train_data[0]),len(test_data[0])))"
      ],
      "execution_count": 12,
      "outputs": [
        {
          "output_type": "stream",
          "text": [
            "length of train_data[0]: 256\n",
            "length of test_data[0]: 256\n",
            "\n"
          ],
          "name": "stdout"
        }
      ]
    },
    {
      "cell_type": "code",
      "metadata": {
        "id": "o0NdOLlNObAp",
        "outputId": "42e7182a-cb5e-4d65-e974-d3c27e308097",
        "colab": {
          "base_uri": "https://localhost:8080/",
          "height": 289
        }
      },
      "source": [
        "# 상위 10000개의 단어를 사용하기로 정했으므로 어휘 사전의 크기를 10000으로 설정\n",
        "vocab_size = 10000\n",
        "\n",
        "model = keras.Sequential()\n",
        "model.add(keras.layers.Embedding(vocab_size, 16, input_shape=(None, )))\n",
        "model.add(keras.layers.GlobalAveragePooling1D())\n",
        "model.add(keras.layers.Dense(16, activation='relu'))\n",
        "model.add(keras.layers.Dense(1, activation='sigmoid'))\n",
        "\n",
        "model.summary()"
      ],
      "execution_count": 13,
      "outputs": [
        {
          "output_type": "stream",
          "text": [
            "Model: \"sequential\"\n",
            "_________________________________________________________________\n",
            "Layer (type)                 Output Shape              Param #   \n",
            "=================================================================\n",
            "embedding (Embedding)        (None, None, 16)          160000    \n",
            "_________________________________________________________________\n",
            "global_average_pooling1d (Gl (None, 16)                0         \n",
            "_________________________________________________________________\n",
            "dense (Dense)                (None, 16)                272       \n",
            "_________________________________________________________________\n",
            "dense_1 (Dense)              (None, 1)                 17        \n",
            "=================================================================\n",
            "Total params: 160,289\n",
            "Trainable params: 160,289\n",
            "Non-trainable params: 0\n",
            "_________________________________________________________________\n"
          ],
          "name": "stdout"
        }
      ]
    },
    {
      "cell_type": "code",
      "metadata": {
        "id": "8oQWXh4JduFN"
      },
      "source": [
        "model.compile(\n",
        "    optimizer='adam',\n",
        "    loss='binary_crossentropy',\n",
        "    metrics=['accuracy']\n",
        ")"
      ],
      "execution_count": 14,
      "outputs": []
    },
    {
      "cell_type": "code",
      "metadata": {
        "id": "u5yQ8ccsd6u8"
      },
      "source": [
        "x_validation = train_data[:10000]\n",
        "y_validation = train_labels[:10000]\n",
        "\n",
        "partial_x_train = train_data[10000:]\n",
        "partial_y_train = train_labels[10000:]"
      ],
      "execution_count": 15,
      "outputs": []
    },
    {
      "cell_type": "code",
      "metadata": {
        "id": "CpDAHYxUeU-h",
        "outputId": "e34b6ab5-6f8d-4774-fe88-91f8c086eb96",
        "colab": {
          "base_uri": "https://localhost:8080/",
          "height": 1000
        }
      },
      "source": [
        "history = model.fit(\n",
        "    partial_x_train,\n",
        "    partial_y_train,\n",
        "    epochs = 40,\n",
        "    batch_size = 512,\n",
        "    validation_data = (x_validation, y_validation),\n",
        "    verbose = 1\n",
        ")"
      ],
      "execution_count": 16,
      "outputs": [
        {
          "output_type": "stream",
          "text": [
            "Epoch 1/40\n",
            "30/30 [==============================] - 1s 22ms/step - loss: 0.6920 - accuracy: 0.5725 - val_loss: 0.6899 - val_accuracy: 0.7135\n",
            "Epoch 2/40\n",
            "30/30 [==============================] - 1s 17ms/step - loss: 0.6860 - accuracy: 0.7149 - val_loss: 0.6811 - val_accuracy: 0.7079\n",
            "Epoch 3/40\n",
            "30/30 [==============================] - 1s 17ms/step - loss: 0.6715 - accuracy: 0.7193 - val_loss: 0.6626 - val_accuracy: 0.7633\n",
            "Epoch 4/40\n",
            "30/30 [==============================] - 1s 17ms/step - loss: 0.6454 - accuracy: 0.7706 - val_loss: 0.6329 - val_accuracy: 0.7757\n",
            "Epoch 5/40\n",
            "30/30 [==============================] - 1s 18ms/step - loss: 0.6076 - accuracy: 0.7971 - val_loss: 0.5933 - val_accuracy: 0.7817\n",
            "Epoch 6/40\n",
            "30/30 [==============================] - 1s 17ms/step - loss: 0.5606 - accuracy: 0.8185 - val_loss: 0.5482 - val_accuracy: 0.8094\n",
            "Epoch 7/40\n",
            "30/30 [==============================] - 1s 17ms/step - loss: 0.5097 - accuracy: 0.8379 - val_loss: 0.5026 - val_accuracy: 0.8228\n",
            "Epoch 8/40\n",
            "30/30 [==============================] - 1s 17ms/step - loss: 0.4607 - accuracy: 0.8543 - val_loss: 0.4616 - val_accuracy: 0.8370\n",
            "Epoch 9/40\n",
            "30/30 [==============================] - 1s 17ms/step - loss: 0.4168 - accuracy: 0.8659 - val_loss: 0.4257 - val_accuracy: 0.8477\n",
            "Epoch 10/40\n",
            "30/30 [==============================] - 1s 18ms/step - loss: 0.3797 - accuracy: 0.8780 - val_loss: 0.3964 - val_accuracy: 0.8548\n",
            "Epoch 11/40\n",
            "30/30 [==============================] - 1s 18ms/step - loss: 0.3482 - accuracy: 0.8857 - val_loss: 0.3757 - val_accuracy: 0.8594\n",
            "Epoch 12/40\n",
            "30/30 [==============================] - 1s 18ms/step - loss: 0.3231 - accuracy: 0.8910 - val_loss: 0.3554 - val_accuracy: 0.8666\n",
            "Epoch 13/40\n",
            "30/30 [==============================] - 1s 18ms/step - loss: 0.3005 - accuracy: 0.8981 - val_loss: 0.3412 - val_accuracy: 0.8697\n",
            "Epoch 14/40\n",
            "30/30 [==============================] - 1s 18ms/step - loss: 0.2818 - accuracy: 0.9043 - val_loss: 0.3300 - val_accuracy: 0.8706\n",
            "Epoch 15/40\n",
            "30/30 [==============================] - 1s 18ms/step - loss: 0.2657 - accuracy: 0.9082 - val_loss: 0.3196 - val_accuracy: 0.8765\n",
            "Epoch 16/40\n",
            "30/30 [==============================] - 1s 19ms/step - loss: 0.2510 - accuracy: 0.9126 - val_loss: 0.3122 - val_accuracy: 0.8777\n",
            "Epoch 17/40\n",
            "30/30 [==============================] - 1s 19ms/step - loss: 0.2376 - accuracy: 0.9186 - val_loss: 0.3057 - val_accuracy: 0.8794\n",
            "Epoch 18/40\n",
            "30/30 [==============================] - 1s 18ms/step - loss: 0.2253 - accuracy: 0.9227 - val_loss: 0.3003 - val_accuracy: 0.8816\n",
            "Epoch 19/40\n",
            "30/30 [==============================] - 1s 18ms/step - loss: 0.2144 - accuracy: 0.9258 - val_loss: 0.2961 - val_accuracy: 0.8813\n",
            "Epoch 20/40\n",
            "30/30 [==============================] - 1s 18ms/step - loss: 0.2043 - accuracy: 0.9309 - val_loss: 0.2930 - val_accuracy: 0.8828\n",
            "Epoch 21/40\n",
            "30/30 [==============================] - 1s 18ms/step - loss: 0.1949 - accuracy: 0.9335 - val_loss: 0.2904 - val_accuracy: 0.8838\n",
            "Epoch 22/40\n",
            "30/30 [==============================] - 1s 18ms/step - loss: 0.1861 - accuracy: 0.9379 - val_loss: 0.2882 - val_accuracy: 0.8846\n",
            "Epoch 23/40\n",
            "30/30 [==============================] - 1s 18ms/step - loss: 0.1780 - accuracy: 0.9418 - val_loss: 0.2868 - val_accuracy: 0.8848\n",
            "Epoch 24/40\n",
            "30/30 [==============================] - 1s 18ms/step - loss: 0.1701 - accuracy: 0.9456 - val_loss: 0.2866 - val_accuracy: 0.8838\n",
            "Epoch 25/40\n",
            "30/30 [==============================] - 1s 19ms/step - loss: 0.1631 - accuracy: 0.9493 - val_loss: 0.2853 - val_accuracy: 0.8855\n",
            "Epoch 26/40\n",
            "30/30 [==============================] - 1s 19ms/step - loss: 0.1560 - accuracy: 0.9512 - val_loss: 0.2854 - val_accuracy: 0.8847\n",
            "Epoch 27/40\n",
            "30/30 [==============================] - 1s 19ms/step - loss: 0.1496 - accuracy: 0.9537 - val_loss: 0.2860 - val_accuracy: 0.8842\n",
            "Epoch 28/40\n",
            "30/30 [==============================] - 1s 18ms/step - loss: 0.1436 - accuracy: 0.9563 - val_loss: 0.2864 - val_accuracy: 0.8849\n",
            "Epoch 29/40\n",
            "30/30 [==============================] - 0s 17ms/step - loss: 0.1377 - accuracy: 0.9593 - val_loss: 0.2874 - val_accuracy: 0.8849\n",
            "Epoch 30/40\n",
            "30/30 [==============================] - 1s 17ms/step - loss: 0.1320 - accuracy: 0.9615 - val_loss: 0.2907 - val_accuracy: 0.8848\n",
            "Epoch 31/40\n",
            "30/30 [==============================] - 1s 17ms/step - loss: 0.1268 - accuracy: 0.9643 - val_loss: 0.2915 - val_accuracy: 0.8844\n",
            "Epoch 32/40\n",
            "30/30 [==============================] - 1s 17ms/step - loss: 0.1220 - accuracy: 0.9658 - val_loss: 0.2920 - val_accuracy: 0.8842\n",
            "Epoch 33/40\n",
            "30/30 [==============================] - 1s 17ms/step - loss: 0.1170 - accuracy: 0.9677 - val_loss: 0.2943 - val_accuracy: 0.8852\n",
            "Epoch 34/40\n",
            "30/30 [==============================] - 1s 17ms/step - loss: 0.1125 - accuracy: 0.9683 - val_loss: 0.2979 - val_accuracy: 0.8839\n",
            "Epoch 35/40\n",
            "30/30 [==============================] - 1s 17ms/step - loss: 0.1081 - accuracy: 0.9697 - val_loss: 0.2991 - val_accuracy: 0.8845\n",
            "Epoch 36/40\n",
            "30/30 [==============================] - 1s 17ms/step - loss: 0.1038 - accuracy: 0.9719 - val_loss: 0.3015 - val_accuracy: 0.8843\n",
            "Epoch 37/40\n",
            "30/30 [==============================] - 1s 19ms/step - loss: 0.0996 - accuracy: 0.9739 - val_loss: 0.3045 - val_accuracy: 0.8832\n",
            "Epoch 38/40\n",
            "30/30 [==============================] - 1s 17ms/step - loss: 0.0962 - accuracy: 0.9747 - val_loss: 0.3082 - val_accuracy: 0.8824\n",
            "Epoch 39/40\n",
            "30/30 [==============================] - 0s 17ms/step - loss: 0.0925 - accuracy: 0.9759 - val_loss: 0.3117 - val_accuracy: 0.8827\n",
            "Epoch 40/40\n",
            "30/30 [==============================] - 1s 17ms/step - loss: 0.0888 - accuracy: 0.9776 - val_loss: 0.3159 - val_accuracy: 0.8823\n"
          ],
          "name": "stdout"
        }
      ]
    },
    {
      "cell_type": "code",
      "metadata": {
        "id": "TyMLUQEievi9",
        "outputId": "9edc3aab-20d0-42d7-c4e3-6f5589bdeb45",
        "colab": {
          "base_uri": "https://localhost:8080/",
          "height": 51
        }
      },
      "source": [
        "results = model.evaluate(\n",
        "    test_data,\n",
        "    test_labels,\n",
        "    verbose = 2\n",
        ")\n",
        "\n",
        "print(results)"
      ],
      "execution_count": 17,
      "outputs": [
        {
          "output_type": "stream",
          "text": [
            "782/782 - 1s - loss: 0.3394 - accuracy: 0.8691\n",
            "[0.33939847350120544, 0.8690800070762634]\n"
          ],
          "name": "stdout"
        }
      ]
    },
    {
      "cell_type": "code",
      "metadata": {
        "id": "vOcm1B0re8-T",
        "outputId": "ad23c232-5614-4985-f9e9-13b9f5f2e0b5",
        "colab": {
          "base_uri": "https://localhost:8080/",
          "height": 173
        }
      },
      "source": [
        "history_dict = history.history\n",
        "for k, v in history_dict.items():\n",
        "  print(\"key: {} / value: {}\\n\".format(k, v))"
      ],
      "execution_count": 18,
      "outputs": [
        {
          "output_type": "stream",
          "text": [
            "key: loss / value: [0.6919535398483276, 0.6860461235046387, 0.6715043783187866, 0.6453847289085388, 0.6075642108917236, 0.5605577230453491, 0.5097432136535645, 0.46074795722961426, 0.4168115556240082, 0.379676878452301, 0.34823620319366455, 0.32309314608573914, 0.30053427815437317, 0.2817533314228058, 0.26569798588752747, 0.25098973512649536, 0.23760560154914856, 0.22532783448696136, 0.21442176401615143, 0.20434223115444183, 0.1948959082365036, 0.18612778186798096, 0.17801162600517273, 0.17007580399513245, 0.16309088468551636, 0.15602804720401764, 0.14956992864608765, 0.1435677856206894, 0.1377340853214264, 0.13196291029453278, 0.12683075666427612, 0.12202590703964233, 0.11696357280015945, 0.1124597117304802, 0.10808618366718292, 0.10384324193000793, 0.09962277859449387, 0.09621273726224899, 0.09247579425573349, 0.08880307525396347]\n",
            "\n",
            "key: accuracy / value: [0.5724666714668274, 0.7148666381835938, 0.7193333506584167, 0.7706000208854675, 0.7970666885375977, 0.8185333609580994, 0.8378666639328003, 0.8543333411216736, 0.8658666610717773, 0.878000020980835, 0.8857333064079285, 0.890999972820282, 0.8980666399002075, 0.9043333530426025, 0.9082000255584717, 0.9125999808311462, 0.9186000227928162, 0.9226666688919067, 0.9258000254631042, 0.9308666586875916, 0.9334666728973389, 0.9379333257675171, 0.9417999982833862, 0.9455999732017517, 0.9493333101272583, 0.951200008392334, 0.9536666870117188, 0.9562666416168213, 0.9592666625976562, 0.9614666700363159, 0.9643333554267883, 0.9657999873161316, 0.9677333235740662, 0.9682666659355164, 0.9696666598320007, 0.9718666672706604, 0.9739333391189575, 0.9746666550636292, 0.975933313369751, 0.9775999784469604]\n",
            "\n",
            "key: val_loss / value: [0.6898995041847229, 0.6810544729232788, 0.662558913230896, 0.6329039931297302, 0.5933478474617004, 0.5481743812561035, 0.5026295185089111, 0.46158578991889954, 0.42569711804389954, 0.39642488956451416, 0.37573328614234924, 0.3554052412509918, 0.3411561846733093, 0.3299883008003235, 0.3196289539337158, 0.3122181296348572, 0.30568182468414307, 0.3003265857696533, 0.2961229383945465, 0.2930454611778259, 0.2903798520565033, 0.2881537079811096, 0.286845862865448, 0.28661373257637024, 0.28529849648475647, 0.2853778898715973, 0.285988450050354, 0.28644272685050964, 0.28740063309669495, 0.2907128632068634, 0.29145348072052, 0.2920430302619934, 0.29427048563957214, 0.2978752851486206, 0.29907193779945374, 0.30154481530189514, 0.30453673005104065, 0.3081507682800293, 0.3117372393608093, 0.3159349262714386]\n",
            "\n",
            "key: val_accuracy / value: [0.7135000228881836, 0.7078999876976013, 0.7633000016212463, 0.7756999731063843, 0.7817000150680542, 0.8094000220298767, 0.8227999806404114, 0.8370000123977661, 0.8476999998092651, 0.8547999858856201, 0.8593999743461609, 0.866599977016449, 0.869700014591217, 0.8705999851226807, 0.8765000104904175, 0.8776999711990356, 0.8794000148773193, 0.881600022315979, 0.8812999725341797, 0.8827999830245972, 0.8838000297546387, 0.8845999836921692, 0.8848000168800354, 0.8838000297546387, 0.8855000138282776, 0.8847000002861023, 0.8841999769210815, 0.8848999738693237, 0.8848999738693237, 0.8848000168800354, 0.8844000101089478, 0.8841999769210815, 0.885200023651123, 0.883899986743927, 0.8845000267028809, 0.8842999935150146, 0.8831999897956848, 0.8823999762535095, 0.8827000260353088, 0.8823000192642212]\n",
            "\n"
          ],
          "name": "stdout"
        }
      ]
    },
    {
      "cell_type": "code",
      "metadata": {
        "id": "nwDgeoCUfVTh",
        "outputId": "56a5f28c-96d9-468a-d1c1-cbc9da1e8387",
        "colab": {
          "base_uri": "https://localhost:8080/",
          "height": 265
        }
      },
      "source": [
        "import matplotlib.pyplot as plt\n",
        "\n",
        "x_lab = range(1,41)\n",
        "\n",
        "plt.figure()\n",
        "for k, v in history_dict.items():\n",
        "  plt.plot(x_lab, v, label=k)\n",
        "plt.legend()\n",
        "plt.show()"
      ],
      "execution_count": 21,
      "outputs": [
        {
          "output_type": "display_data",
          "data": {
            "image/png": "[encoded data removed]",
            "text/plain": [
              "<Figure size 432x288 with 1 Axes>"
            ]
          },
          "metadata": {
            "tags": [],
            "needs_background": "light"
          }
        }
      ]
    },
    {
      "cell_type": "code",
      "metadata": {
        "id": "OFX4uLrggdKY"
      },
      "source": [
        "\"\"\"\n",
        "과대적합, overfitting이 어디서부터 일어난다고 보는가?\n",
        "\n",
        "val_loss, val_accuracy를 확인해보면 알 수 있다.\n",
        "\n",
        "실제 validation 값들을 확인하면 20~25번째 epoch부터 loss가 증가하고 accuracy가 감소한다.\n",
        "\n",
        "의도적으로 overfitting을 유도한 것이 아니라면, overfitting을 피하고 싶다면\n",
        "\n",
        "학습을 20~25번째 epoch에서 멈추는 것이 바람직하다.\n",
        "\n",
        "어떻게 멈추는가? keras.callbacks.EarlyStopping(monitor='val_loss', min_delta=0, patience=0, verbose=0, mode='auto')\n",
        "\n",
        "callbacks = [-]\n",
        "\"\"\""
      ],
      "execution_count": null,
      "outputs": []
    }
  ]
}